{
 "cells": [
  {
   "cell_type": "markdown",
   "metadata": {},
   "source": [
    "# Load data"
   ]
  },
  {
   "cell_type": "code",
   "execution_count": null,
   "metadata": {},
   "outputs": [],
   "source": [
    "from cache_utils import saved_data"
   ]
  },
  {
   "cell_type": "code",
   "execution_count": null,
   "metadata": {},
   "outputs": [],
   "source": [
    "items_id_all = list(saved_data['items_dict'].keys())\n",
    "items_id = items_id_all[:5]\n",
    "print(len(items_id_all))\n",
    "print(saved_data['items_dict'][items_id[0]]['item']['name']) #.keys())"
   ]
  },
  {
   "cell_type": "code",
   "execution_count": null,
   "metadata": {},
   "outputs": [],
   "source": [
    "items_id[0]"
   ]
  },
  {
   "cell_type": "code",
   "execution_count": null,
   "metadata": {},
   "outputs": [],
   "source": [
    "# list(saved_data['items_dict'][items_id[0]]['item'].keys())"
   ]
  },
  {
   "cell_type": "code",
   "execution_count": null,
   "metadata": {},
   "outputs": [],
   "source": [
    "# saved_data['items_dict'][items_id[0]]"
   ]
  },
  {
   "cell_type": "markdown",
   "metadata": {},
   "source": [
    "# Insert to ES as documents"
   ]
  },
  {
   "cell_type": "code",
   "execution_count": null,
   "metadata": {},
   "outputs": [],
   "source": [
    "from elasticsearch import Elasticsearch\n",
    "es=Elasticsearch([{'host':'localhost','port':9200}])"
   ]
  },
  {
   "cell_type": "code",
   "execution_count": null,
   "metadata": {},
   "outputs": [],
   "source": [
    "from flatten_dict import flatten"
   ]
  },
  {
   "cell_type": "code",
   "execution_count": null,
   "metadata": {},
   "outputs": [],
   "source": [
    "# _id\n",
    "_id = (2153259823, 27618473)"
   ]
  },
  {
   "cell_type": "code",
   "execution_count": null,
   "metadata": {},
   "outputs": [],
   "source": [
    "# for i, _id in enumerate(items_id_all[i:]):\n",
    "if True:\n",
    "    item = flatten(saved_data['items_dict'][_id])\n",
    "    rem_l = []\n",
    "    for k in item:\n",
    "        v = item[k]\n",
    "        if type(v) is dict or type(v) is list:\n",
    "            rem_l.append(k)\n",
    "\n",
    "    for k in rem_l:\n",
    "        item.pop(k)\n",
    "\n",
    "    new_item = {}\n",
    "    for k in item:\n",
    "        new_item[\"_\".join(map(str, k))] = item[k]\n",
    "\n",
    "    res=es.index(index='shopee',id=str(_id),body=new_item)"
   ]
  },
  {
   "cell_type": "code",
   "execution_count": null,
   "metadata": {},
   "outputs": [],
   "source": [
    "res=es.get(index='shopee',id=str(items_id[0]))\n",
    "print(list(res['_source'].keys())[:3])\n",
    "print(res['_source']['item_itemid'])"
   ]
  },
  {
   "cell_type": "code",
   "execution_count": null,
   "metadata": {},
   "outputs": [],
   "source": [
    "# res=es.delete(index='shopee',id=str(items_id[0]))\n",
    "res=es.delete(index='shopee',id=str(_id))"
   ]
  },
  {
   "cell_type": "code",
   "execution_count": null,
   "metadata": {},
   "outputs": [],
   "source": [
    "res= es.search(\n",
    "    index='shopee',\n",
    "    body={'query':{'match_all':{}}}\n",
    ")\n",
    "print(len(res['hits']['hits']))"
   ]
  },
  {
   "cell_type": "code",
   "execution_count": null,
   "metadata": {},
   "outputs": [],
   "source": [
    "for i in res['hits']['hits']:\n",
    "    es.delete(index=i['_index'], id=i['_id'])"
   ]
  },
  {
   "cell_type": "markdown",
   "metadata": {},
   "source": [
    "# json requests"
   ]
  },
  {
   "cell_type": "code",
   "execution_count": null,
   "metadata": {},
   "outputs": [],
   "source": [
    "json = {\n",
    "    \"query\":\"quần áo\",\n",
    "    \"maxPrice\": 600000000,\n",
    "    \"minPrice\": 0,\n",
    "    \"priceOrder\": \"desc\",\n",
    "    \"page\": 0,\n",
    "    \"sortBy\": \"sales\" #[sales -> bán chạy, price, ctime -> mới]\n",
    "}"
   ]
  },
  {
   "cell_type": "code",
   "execution_count": null,
   "metadata": {},
   "outputs": [],
   "source": [
    "import requests\n",
    "res = requests.post('http://rfantic.ddns.net:9873/search', json=json)\n",
    "print(res.json())"
   ]
  },
  {
   "cell_type": "code",
   "execution_count": null,
   "metadata": {},
   "outputs": [],
   "source": [
    "print(res.request.body)\n",
    "print(res.request.headers)"
   ]
  },
  {
   "cell_type": "markdown",
   "metadata": {},
   "source": [
    "# Search"
   ]
  },
  {
   "cell_type": "code",
   "execution_count": null,
   "metadata": {},
   "outputs": [],
   "source": [
    "from elasticsearch_dsl import Search\n",
    "from elasticsearch import Elasticsearch\n",
    "from elasticsearch_dsl import Q\n",
    "# from elasticsearch_dsl.query import MultiMatch, Match\n",
    "es=Elasticsearch([{'host':'localhost','port':9200}])"
   ]
  },
  {
   "cell_type": "code",
   "execution_count": null,
   "metadata": {},
   "outputs": [],
   "source": []
  },
  {
   "cell_type": "code",
   "execution_count": null,
   "metadata": {},
   "outputs": [],
   "source": [
    "# m = MultiMatch(query='quần áo', fields=['item_name', 'item_description'])"
   ]
  },
  {
   "cell_type": "code",
   "execution_count": 242,
   "metadata": {},
   "outputs": [],
   "source": [
    "s = Search(using=es, index=\"shopee\") \\\n",
    "#     .query(\"match\", item_name=\"*quần*\")   \\\n",
    "#     .query(\"match\", item_itemid=\"811146902\")   \\\n",
    "#     .filter(\"term\", category=\"search\") \\\n",
    "#     .exclude(\"match\", description=\"beta\")\n",
    "\n",
    "# s.aggs.bucket('per_tag', 'terms', field='tags') \\\n",
    "#     .metric('max_lines', 'max', field='lines')\n",
    "\n",
    "# s = s.sort({\"item_ctime\" : {\"order\" : \"desc\"}})\n",
    "# item_ctime, item_price, item_stock, item_sold\n",
    "q = Q(\"multi_match\", query='áo chốg', fields=['item_name', 'item_name.folded'], fuzziness='auto') #, 'item_description'])\n",
    "s = s.query(q)\n",
    "s = s[0:20] \n",
    "response = s.execute()"
   ]
  },
  {
   "cell_type": "code",
   "execution_count": 243,
   "metadata": {},
   "outputs": [
    {
     "data": {
      "text/plain": [
       "20"
      ]
     },
     "execution_count": 243,
     "metadata": {},
     "output_type": "execute_result"
    }
   ],
   "source": [
    "len(response['hits']['hits'])"
   ]
  },
  {
   "cell_type": "code",
   "execution_count": 244,
   "metadata": {},
   "outputs": [],
   "source": [
    "# [i for i in response['hits']['hits'][0]['_source']]"
   ]
  },
  {
   "cell_type": "code",
   "execution_count": 245,
   "metadata": {},
   "outputs": [
    {
     "name": "stdout",
     "output_type": "stream",
     "text": [
      "Áo Chống Nắng Nam KOJIBA Cao Cấp, Thoáng Mát, Chống Mọi Tia UV Gây Hại Cho Da\n",
      "Áo Chống Nắng Nam Uniplus Cao Cấp, Chống Tia UV Gây Hại Cho Da - CN01 - Kèm Túi Pocket\n",
      "[Mã WABIG19 giảm 15% đơn 150k] ❌ÁO CHỐNG NẮNG NỮ, ÁO CHỐNG NẮNG TOÀN THÂN ĐỤC LỖ . ÁO CHỐNG NẮNG DÀI ❌\n",
      "[Hàng Xịn] Áo Chống Nắng Vải Thông Hơi, Tản Nhiệt Cực Mát, Cho Cả Nam & Nữ\n",
      "Váy Tĩnh Điện Chống Tĩnh Điện Cho Nữ\n"
     ]
    }
   ],
   "source": [
    "for i in range(0,5):\n",
    "    print(response['hits']['hits'][i]['_source']['item_name'])"
   ]
  },
  {
   "cell_type": "markdown",
   "metadata": {},
   "source": [
    "# Get index _"
   ]
  },
  {
   "cell_type": "code",
   "execution_count": null,
   "metadata": {},
   "outputs": [],
   "source": [
    "from elasticsearch import Elasticsearch\n",
    "es=Elasticsearch([{'host':'localhost','port':9200}])"
   ]
  },
  {
   "cell_type": "code",
   "execution_count": null,
   "metadata": {},
   "outputs": [],
   "source": [
    "es.indices.get_field_mapping(fields=[\"item_name\"], index=\"shopee_2\", params=None, headers=None)"
   ]
  },
  {
   "cell_type": "markdown",
   "metadata": {},
   "source": [
    "# Remove Accents"
   ]
  },
  {
   "cell_type": "code",
   "execution_count": null,
   "metadata": {},
   "outputs": [],
   "source": [
    "es.indices.close(index=\"shopee\", params=None, headers=None)"
   ]
  },
  {
   "cell_type": "code",
   "execution_count": null,
   "metadata": {},
   "outputs": [],
   "source": [
    "body = {\n",
    "#   \"settings\": {\n",
    "    \"analysis\": {\n",
    "      \"analyzer\": {\n",
    "        \"folding\": {\n",
    "          \"tokenizer\": \"standard\",\n",
    "          \"filter\": [\n",
    "            \"lowercase\",\n",
    "            \"asciifolding\"\n",
    "          ]\n",
    "        }\n",
    "      }\n",
    "    }\n",
    "#   }\n",
    "}"
   ]
  },
  {
   "cell_type": "code",
   "execution_count": null,
   "metadata": {},
   "outputs": [],
   "source": [
    "es.indices.put_settings(body, index=\"shopee\", params=None, headers=None)"
   ]
  },
  {
   "cell_type": "code",
   "execution_count": null,
   "metadata": {},
   "outputs": [],
   "source": [
    "body = {\n",
    "    \"properties\": {\n",
    "        \"item_name\": {\n",
    "            \"type\": \"text\",\n",
    "            \"fields\": {\n",
    "                \"folded\": {\n",
    "                    \"type\": \"text\",\n",
    "                    \"analyzer\": \"folding\"\n",
    "                }\n",
    "            }\n",
    "        }\n",
    "    }\n",
    "}"
   ]
  },
  {
   "cell_type": "code",
   "execution_count": null,
   "metadata": {},
   "outputs": [],
   "source": [
    "es.indices.put_mapping(index=\"shopee\", body=body, params=None, headers=None)"
   ]
  },
  {
   "cell_type": "code",
   "execution_count": null,
   "metadata": {},
   "outputs": [],
   "source": [
    "es.indices.open(index=\"shopee\", params=None, headers=None)"
   ]
  },
  {
   "cell_type": "code",
   "execution_count": null,
   "metadata": {},
   "outputs": [],
   "source": [
    "body = \\\n",
    "{\n",
    "#   \"analyzer\" : \"folding\",\n",
    "  \"text\" : \"Tôi thèm ăn thịt!\",\n",
    "  \"field\" : \"item_name.folded\",\n",
    "#   \"field\" : \"item_name\",\n",
    "}"
   ]
  },
  {
   "cell_type": "code",
   "execution_count": null,
   "metadata": {},
   "outputs": [],
   "source": [
    "es.indices.analyze(body=body, index=\"shopee\", params=None, headers=None)"
   ]
  },
  {
   "cell_type": "code",
   "execution_count": null,
   "metadata": {},
   "outputs": [],
   "source": [
    "es.get(index=\"shopee\", id=\"(2153259823, 27618473)\", params=None, headers=None)['_source']['item_name']"
   ]
  },
  {
   "cell_type": "markdown",
   "metadata": {},
   "source": [
    "# Reindex"
   ]
  },
  {
   "cell_type": "code",
   "execution_count": null,
   "metadata": {},
   "outputs": [],
   "source": [
    "# body = \\\n",
    "# {\n",
    "#   \"source\": {\n",
    "#     \"index\": \"shopee_2\"\n",
    "#   },\n",
    "#   \"dest\": {\n",
    "#     \"index\": \"shopee\"\n",
    "#   }\n",
    "# }"
   ]
  },
  {
   "cell_type": "code",
   "execution_count": null,
   "metadata": {},
   "outputs": [],
   "source": [
    "es.reindex(body, params=None, headers=None, timeout=\"50m\")"
   ]
  }
 ],
 "metadata": {
  "kernelspec": {
   "display_name": "Python 3",
   "language": "python",
   "name": "python3"
  },
  "language_info": {
   "codemirror_mode": {
    "name": "ipython",
    "version": 3
   },
   "file_extension": ".py",
   "mimetype": "text/x-python",
   "name": "python",
   "nbconvert_exporter": "python",
   "pygments_lexer": "ipython3",
   "version": "3.7.6"
  }
 },
 "nbformat": 4,
 "nbformat_minor": 4
}
