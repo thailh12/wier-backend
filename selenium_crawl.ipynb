{
 "cells": [
  {
   "cell_type": "code",
   "execution_count": null,
   "metadata": {},
   "outputs": [],
   "source": [
    "import time"
   ]
  },
  {
   "cell_type": "code",
   "execution_count": null,
   "metadata": {},
   "outputs": [],
   "source": [
    "from selenium import webdriver\n",
    "from webdriver_manager.chrome import ChromeDriverManager\n",
    "\n",
    "chrome_options = webdriver.ChromeOptions()\n",
    "# chrome_options.add_argument('--headless')\n",
    "# chrome_options.add_argument('window-size=1920x1080')\n",
    "# chrome_options.add_argument('--remote-debugging-port=9222')\n",
    "\n",
    "wd = webdriver.Chrome(ChromeDriverManager().install(),options=chrome_options)"
   ]
  },
  {
   "cell_type": "code",
   "execution_count": null,
   "metadata": {},
   "outputs": [],
   "source": [
    "url=\"https://shopee.vn/search?keyword=quan&page=1\"\n",
    "wd.get(url)\n",
    "wd.implicitly_wait(30)\n",
    "y = wd.execute_script(\"return window.scrollY;\")\n",
    "Y = wd.execute_script(\"return document.body.scrollHeight;\")\n",
    "while y < Y:\n",
    "    wd.execute_script(\"window.scrollTo(0, window.scrollY + 200)\")\n",
    "    wd.implicitly_wait(30)\n",
    "    y = wd.execute_script(\"return window.scrollY;\")"
   ]
  },
  {
   "cell_type": "code",
   "execution_count": null,
   "metadata": {},
   "outputs": [],
   "source": [
    "y"
   ]
  },
  {
   "cell_type": "code",
   "execution_count": null,
   "metadata": {},
   "outputs": [],
   "source": [
    "# wd.execute_script(\"window.scrollTo(0, document.body.scrollHeight);\")\n",
    "# wd.implicitly_wait(5)"
   ]
  },
  {
   "cell_type": "code",
   "execution_count": null,
   "metadata": {},
   "outputs": [],
   "source": [
    "items_elems = wd.find_elements_by_xpath('//a[@data-sqe=\"link\"]')\n",
    "items_elems[0].get_attribute('href')"
   ]
  },
  {
   "cell_type": "code",
   "execution_count": null,
   "metadata": {},
   "outputs": [],
   "source": [
    "len(items_elems)"
   ]
  },
  {
   "cell_type": "code",
   "execution_count": null,
   "metadata": {},
   "outputs": [],
   "source": [
    "wd.close()"
   ]
  }
 ],
 "metadata": {
  "kernelspec": {
   "display_name": "Python 3",
   "language": "python",
   "name": "python3"
  },
  "language_info": {
   "codemirror_mode": {
    "name": "ipython",
    "version": 3
   },
   "file_extension": ".py",
   "mimetype": "text/x-python",
   "name": "python",
   "nbconvert_exporter": "python",
   "pygments_lexer": "ipython3",
   "version": "3.7.6"
  }
 },
 "nbformat": 4,
 "nbformat_minor": 4
}
